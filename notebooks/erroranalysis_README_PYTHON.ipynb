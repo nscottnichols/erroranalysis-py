{
 "cells": [
  {
   "cell_type": "markdown",
   "metadata": {},
   "source": [
    "# Error Analysis\n",
    "Generate error bars and perform binning analysis using jackknife or bootstrap resampling. This package calculates the average and error in quantum Monte Carlo data (or other data) and on functions of averages (such as fluctuations, skew, and kurtosis). This package has been put together following [Peter Young's excellet data analysis guide](https://arxiv.org/abs/1210.3781) and the [Ambegaokar and Troyer dogs and fleas (Estimating errors reliably in Monte Carlo simulations) paper](https://arxiv.org/abs/0906.0943v1)."
   ]
  },
  {
   "cell_type": "markdown",
   "metadata": {},
   "source": [
    "## Installation\n",
    "You can install Error Analysis from [PyPI](https://pypi.org/project/erroranalysis-py/):\n",
    "```\n",
    "pip install erroranalysis-py\n",
    "```"
   ]
  },
  {
   "cell_type": "markdown",
   "metadata": {},
   "source": [
    "## How to use\n",
    "Some [example data](https://github.com/nscottnichols/erroranalysis-py/tree/main/examples) is provided from our [dimensional reduction of superfluid helium](https://nathan.nichols.live/project/dimensional-reduction-of-superfluid-helium/) project. Specifically the data provied is for argon confined to the nanopores of the mesoporous silica MCM-41 from grand canonical Monte Carlo molecular simulations using the [Cassandra molecular simulation software](https://cassandra.nd.edu/).\n",
    "\n",
    "Command line methods have been included for convenience. Average, fluctuations, skew, and kurtosis can be plotted as a function of Monte Carlo step (or average bin) with errorbars. Binning analysis can also be performed. For the full set of options see  \n",
    "```\n",
    "python -m erroranalysis --help\n",
    "```\n",
    "or\n",
    "```\n",
    "ea --help\n",
    "```\n",
    "\n",
    "For example, the following command generates plots for the `Nmols_2` estimator (average number of particles):\n",
    "```\n",
    "ea --skip_header 1 --estimator Nmols_2 --savefig argon_MCM41_-12.68.png examples/argon_MCM41_-12.68.out.prp\n",
    "```\n",
    "![png](../images/argon_MCM41_-12.68_jackknife_average.png)\n",
    "![png](../images/argon_MCM41_-12.68_jackknife_kurtosis.png)\n",
    "![png](../images/argon_MCM41_-12.68_jackknife_fluctuations.png)\n",
    "![png](../images/argon_MCM41_-12.68_jackknife_skew.png)\n",
    "Note that Error Analysis will attempt to read the headers for each column of data in the data files provided and the estimator of interest should be specified from the header. In the example, the header for the data is on the second line so `--skip_header 1` is specified to skip the first line of the data file before attempting to read the header. A custom header can be provided if the header is missing on the datafiles and multiple data files are supported as well. Here several options are shown off:\n",
    "```\n",
    "ea --skip 5000 --bin_size 5 --skip_header 1 --custom_header \"estimator_1,estimator_2,estimator_3,estimator_4,estimator_5\" --estimator estimator_4 --pretty_estimator_name \"N_\\mathrm{Ar}\" --savefig two_files_at_once.png --labels \"file_1,file_2\" --legend examples/argon_MCM41_-12.68.out.prp examples/argon_MCM41_-13.34.out.prp\n",
    "```\n",
    "![png](../images/two_files_at_once_jackknife_average.png)\n",
    "Binning analysis can be performed by adding the `--binning_analysis` flag:\n",
    "```\n",
    "ea --skip 15000 --skip_header 1 --estimator Nmols_2 --binning_analysis --savefig argon_MCM41_-12.68.png examples/argon_MCM41_-12.68.out.prp\n",
    "```\n",
    "![png](../images/argon_MCM41_-12.68_binning_jackknife_average.png)\n",
    "![png](../images/argon_MCM41_-12.68_binning_jackknife_kurtosis.png)\n",
    "![png](../images/argon_MCM41_-12.68_binning_jackknife_fluctuations.png)\n",
    "![png](../images/argon_MCM41_-12.68_binning_jackknife_skew.png)\n",
    "```\n",
    "Average\n",
    "autocorrelation time: 29.3695548682474\n",
    "convergence factor: 1.6227794947682683\n",
    "\n",
    "Fluctuations\n",
    "autocorrelation time: 57.78295684564631\n",
    "convergence factor: 1.0302306748178092\n",
    "\n",
    "Skew\n",
    "autocorrelation time: 55.363864907469626\n",
    "convergence factor: 0.9741542111868422\n",
    "\n",
    "Kurtosis\n",
    "autocorrelation time: -0.07655265212193901\n",
    "convergence factor: 1.6641092137649522\n",
    "```"
   ]
  },
  {
   "cell_type": "markdown",
   "metadata": {},
   "source": [
    "## Advanced usage\n",
    "More advanced usage of the Error Analysis package can be achieved by importing the pacakge directly into your project or notebook environment using `import erroranalysis as ea`. Some advanced usage cases are discussed below."
   ]
  },
  {
   "cell_type": "markdown",
   "metadata": {},
   "source": [
    "<a id='lattice_vectors'></a>\n",
    "### Compressibility\n",
    "The compressibility may be a measure of interest and can be calculated by\n",
    "<img src=\"https://render.githubusercontent.com/render/math?math=%5CHuge%20%5Ckappa_T%20%3D%20%5Cfrac%7B1%7D%7B%5Crho_0%20k_%5Cmathrm%7BB%7D%20T%7D%5Cfrac%7B%5Clangle%20N%5E2%5Crangle%20-%20%5Clangle%20N%5Crangle%5E2%7D%7B%5Clangle%20N%5Crangle%7D\">\n",
    "\n",
    "\\begin{equation}\\kappa_T = \\frac{1}{\\rho_0 k_\\mathrm{B} T}\\frac{\\langle N^2\\rangle - \\langle N\\rangle^2}{\\langle N\\rangle}\\end{equation}\n",
    "where <img src=\"https://render.githubusercontent.com/render/math?math=%5Crho_0%20%3D%20%5Cfrac%7B%5Clangle%20N%5Crangle%7D%7BV%7D\">\n",
    "is the average particle density. Notice the compressibility is a function of averages. Jackknife or bootstrap resampling of the data may give a better measure of the error in the compressibility. Start with the compressibility as a function:"
   ]
  },
  {
   "cell_type": "code",
   "execution_count": 3,
   "metadata": {},
   "outputs": [],
   "source": [
    "def compressibility(N,N2,volume=1.0,k_B=1.0,T=1.0):\n",
    "    pf = volume/(k_B*T)\n",
    "    return pf*(((N2 - (N**2)))/(N**2))"
   ]
  },
  {
   "cell_type": "markdown",
   "metadata": {},
   "source": [
    "Then use Error Analysis to calculate the average compressibility and error"
   ]
  },
  {
   "cell_type": "code",
   "execution_count": 10,
   "metadata": {},
   "outputs": [
    {
     "name": "stdout",
     "output_type": "stream",
     "text": [
      "κ_avg = 1.65368e-07\n",
      "κ_err = 1.53513e-09\n"
     ]
    }
   ],
   "source": [
    "import erroranalysis as ea\n",
    "import numpy as np\n",
    "from scipy.constants import k as k_b\n",
    "\n",
    "skip = 6000 # Skip some measurements\n",
    "\n",
    "# Values specific to the argon in MCM-41 GCMC simulations\n",
    "box_volume = 139357.3925 #\\AA^3\n",
    "volume = box_volume*((1e-10)**3)\n",
    "temperature = 87.35 #K\n",
    "\n",
    "# Load the GCMC data \n",
    "fn = \"examples/argon_MCM41_-12.68.out.prp\"\n",
    "_data = np.genfromtxt(fn,names=True,skip_header=1)\n",
    "\n",
    "#Calculate average compressibility and error using jackknife method\n",
    "κ_avg, κ_err = ea.jackknife_on_function( compressibility,\n",
    "                                         _data[\"Nmols_2\"][skip:],\n",
    "                                         _data[\"Nmols_2\"][skip:]**2,\n",
    "                                         volume=volume,\n",
    "                                         k_B=k_b,\n",
    "                                         T=temperature)\n",
    "print(\"κ_avg = {:.5e}\".format(κ_avg))\n",
    "print(\"κ_err = {:.5e}\".format(κ_err))"
   ]
  },
  {
   "cell_type": "markdown",
   "metadata": {},
   "source": [
    "Notice we pass the `compressibility()` function as the first argument to the `jackknife_on_function()` and then the arguments to `compressibility()` (including keyword arguments). Bootstrap sampling can similarly be performed using `bootstrap_on_function()`. These methods are used when generating the fluctuations, skew, and kurtosis."
   ]
  },
  {
   "cell_type": "markdown",
   "metadata": {},
   "source": [
    "## Additional usage\n",
    "The functions `jackknife()`, `bootstrap()`, `jackknife_on_function()`, and `boostrap_on_function()` operate on array-like data. See the documentation to discover more creative usage!"
   ]
  }
 ],
 "metadata": {
  "kernelspec": {
   "display_name": "Python 3",
   "language": "python",
   "name": "python3"
  },
  "language_info": {
   "codemirror_mode": {
    "name": "ipython",
    "version": 3
   },
   "file_extension": ".py",
   "mimetype": "text/x-python",
   "name": "python",
   "nbconvert_exporter": "python",
   "pygments_lexer": "ipython3",
   "version": "3.8.5"
  }
 },
 "nbformat": 4,
 "nbformat_minor": 4
}
